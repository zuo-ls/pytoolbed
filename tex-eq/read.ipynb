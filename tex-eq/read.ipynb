{
 "cells": [
  {
   "cell_type": "markdown",
   "metadata": {},
   "source": [
    "https://pypi.org/project/pix2tex/  \n",
    "https://pix2tex.readthedocs.io/en/latest/"
   ]
  },
  {
   "cell_type": "code",
   "execution_count": 89,
   "metadata": {},
   "outputs": [],
   "source": [
    "from pix2tex.cli import LatexOCR\n",
    "from PIL import ImageGrab\n",
    "import pyperclip"
   ]
  },
  {
   "cell_type": "markdown",
   "metadata": {},
   "source": [
    "## read from clipboard img\n",
    "\n",
    "read your img of equations saving in your clipboard and generate latex str, the outputs will auto save in your clipboard,  \n",
    "therefore you can directly paste."
   ]
  },
  {
   "cell_type": "code",
   "execution_count": null,
   "metadata": {},
   "outputs": [],
   "source": [
    "model = LatexOCR()"
   ]
  },
  {
   "cell_type": "code",
   "execution_count": 172,
   "metadata": {},
   "outputs": [
    {
     "name": "stderr",
     "output_type": "stream",
     "text": [
      "*** Error creating a JP2 color space: falling back to sRGB\n"
     ]
    },
    {
     "name": "stdout",
     "output_type": "stream",
     "text": [
      "\n",
      "\\frac{d y^{*}}{d x}\n"
     ]
    }
   ],
   "source": [
    "im = ImageGrab.grabclipboard()\n",
    "txt = model(im)\n",
    "\n",
    "import re\n",
    "txt = re.sub(r'operatorname\\*{([^}]*)}', r'\\1', txt)\n",
    "txt = re.sub(r'operatorname{([^}]*)}', r'\\1', txt)\n",
    "pyperclip.copy(txt)\n",
    "print('\\n'+txt)\n",
    "\n",
    "# save to txt file, append to the end of the file\n",
    "with open('latex.txt', 'a') as f:\n",
    "    f.write(txt+'\\n')"
   ]
  },
  {
   "cell_type": "markdown",
   "metadata": {},
   "source": [
    "## tex2word\n",
    "https://stackoverflow.com/questions/75838327/copying-latex-equations-from-word-doc-to-powerpoint-with-python\n",
    "\n",
    "read latex str and change it to mathml, which auto saved in clipboard,  \n",
    "the output can be directly paste into a word file."
   ]
  },
  {
   "cell_type": "code",
   "execution_count": 43,
   "metadata": {},
   "outputs": [],
   "source": [
    "import latex2mathml.converter"
   ]
  },
  {
   "cell_type": "code",
   "execution_count": 145,
   "metadata": {},
   "outputs": [],
   "source": [
    "latex_input = r\"\\frac{\\lambda}{2}\\|\\theta-\\Phi\\|^{2}\"\n",
    "mathml_output = latex2mathml.converter.convert(latex_input) # mathml can be used in word\n",
    "pyperclip.copy(mathml_output)"
   ]
  },
  {
   "cell_type": "code",
   "execution_count": 55,
   "metadata": {},
   "outputs": [],
   "source": [
    "# to xml\n",
    "# import xml.etree.ElementTree as ET\n",
    "\n",
    "# xml = ET.tostring(ET.fromstring(mathml_output), encoding='unicode')\n",
    "# pyperclip.copy(xml)"
   ]
  },
  {
   "cell_type": "markdown",
   "metadata": {},
   "source": [
    "## txt to img\n",
    "\n",
    "generate png given latex string/read it from clipboard\n",
    "the png is saved in clipboard,  \n",
    "you can just paste."
   ]
  },
  {
   "cell_type": "code",
   "execution_count": 109,
   "metadata": {},
   "outputs": [],
   "source": [
    "import matplotlib.pyplot as plt\n",
    "from clip_util import copy_plt_to_clipboard\n",
    "\n",
    "# reload packages\n",
    "# import importlib\n",
    "# importlib.reload(clip_util)"
   ]
  },
  {
   "cell_type": "code",
   "execution_count": 168,
   "metadata": {},
   "outputs": [],
   "source": [
    "# from str\n",
    "latex_code = r\"\\frac{d f}{d x}=\\frac{\\partial f}{\\partial x}+\\frac{\\partial f}{\\partial y}\\cdot\\left(-\\nabla_{y y}^{2}g(x,y)^{-1}\\nabla_{x y}^{2}g(x,y)\\right)\""
   ]
  },
  {
   "cell_type": "code",
   "execution_count": 173,
   "metadata": {},
   "outputs": [
    {
     "name": "stdout",
     "output_type": "stream",
     "text": [
      "\\frac{d y^{*}}{d x}\n"
     ]
    }
   ],
   "source": [
    "# from clipboard\n",
    "latex_code = pyperclip.paste(ßß)\n",
    "print(latex_code)"
   ]
  },
  {
   "cell_type": "code",
   "execution_count": 174,
   "metadata": {},
   "outputs": [
    {
     "name": "stdout",
     "output_type": "stream",
     "text": [
      "Figure copied to clipboard as PNG!\n"
     ]
    },
    {
     "name": "stderr",
     "output_type": "stream",
     "text": [
      "/var/folders/3x/swx33nkd7yg809d16nwrnfsc0000gn/T/ipykernel_3699/3410363243.py:8: UserWarning: Tight layout not applied. The bottom and top margins cannot be made large enough to accommodate all Axes decorations.\n",
      "  plt.tight_layout()\n"
     ]
    },
    {
     "data": {
      "image/png": "[encoded data removed]",
      "text/plain": [
       "<Figure size 85.5x45 with 1 Axes>"
      ]
     },
     "metadata": {},
     "output_type": "display_data"
    }
   ],
   "source": [
    "h = 0.3\n",
    "w = h*len(latex_code)*0.1\n",
    "\n",
    "# fig = plt.figure(dpi=300)\n",
    "fig, axs = plt.subplots(1, 1, figsize=(w, h), dpi=150)\n",
    "plt.text(0.1, 0.1, f\"${latex_code}$\", fontsize=18, ha='center', va='center')\n",
    "plt.axis('off')\n",
    "plt.tight_layout()\n",
    "\n",
    "copy_plt_to_clipboard(fig)"
   ]
  }
 ],
 "metadata": {
  "kernelspec": {
   "display_name": "cv",
   "language": "python",
   "name": "python3"
  },
  "language_info": {
   "codemirror_mode": {
    "name": "ipython",
    "version": 3
   },
   "file_extension": ".py",
   "mimetype": "text/x-python",
   "name": "python",
   "nbconvert_exporter": "python",
   "pygments_lexer": "ipython3",
   "version": "3.10.11"
  }
 },
 "nbformat": 4,
 "nbformat_minor": 2
}
